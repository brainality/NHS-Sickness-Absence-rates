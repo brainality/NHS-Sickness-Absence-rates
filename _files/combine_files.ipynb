{
 "cells": [
  {
   "cell_type": "code",
   "execution_count": 100,
   "id": "1bce8c32",
   "metadata": {},
   "outputs": [],
   "source": [
    "import pandas as pd\n",
    "import os\n",
    "import numpy as np"
   ]
  },
  {
   "cell_type": "code",
   "execution_count": 101,
   "id": "a6198415",
   "metadata": {},
   "outputs": [],
   "source": [
    "def export_to_csv(df):\n",
    "    df.to_csv('new_file.csv', index=True)  "
   ]
  },
  {
   "cell_type": "code",
   "execution_count": 102,
   "id": "0fc6d786",
   "metadata": {},
   "outputs": [],
   "source": [
    "def combine_files(path_to_folder):\n",
    "    #list all files names in folder\n",
    "    file_names = os.listdir(path_to_folder)\n",
    "    \n",
    "    dff=pd.DataFrame()\n",
    "    \n",
    "    for i in file_names:\n",
    "        #get full path with file name\n",
    "        full_path=os.path.join(path_to_folder,i)\n",
    "        #read into dataframe\n",
    "        df=pd.read_csv(full_path)\n",
    "        #set all columns names to UPPER case\n",
    "        df.columns=df.columns.str.upper()\n",
    "        \n",
    "        dff=pd.concat([dff,df])\n",
    "        dff['DATE']=pd.to_datetime(dff['DATE'],format=\"mixed\")\n",
    "\n",
    "    return dff"
   ]
  },
  {
   "cell_type": "code",
   "execution_count": 103,
   "id": "e04a3686",
   "metadata": {},
   "outputs": [],
   "source": [
    "dfg=combine_files(r\"C:\\Users\\Alina\\100datasets\\NHS Sickness Absence\\data\")"
   ]
  },
  {
   "cell_type": "code",
   "execution_count": null,
   "id": "142ff90e",
   "metadata": {},
   "outputs": [],
   "source": [
    "export_to_csv(dfg)"
   ]
  },
  {
   "cell_type": "code",
   "execution_count": 104,
   "id": "dbd5eb36",
   "metadata": {},
   "outputs": [],
   "source": []
  },
  {
   "cell_type": "code",
   "execution_count": null,
   "id": "e44ef81f",
   "metadata": {},
   "outputs": [],
   "source": []
  }
 ],
 "metadata": {
  "kernelspec": {
   "display_name": "Python 3 (ipykernel)",
   "language": "python",
   "name": "python3"
  },
  "language_info": {
   "codemirror_mode": {
    "name": "ipython",
    "version": 3
   },
   "file_extension": ".py",
   "mimetype": "text/x-python",
   "name": "python",
   "nbconvert_exporter": "python",
   "pygments_lexer": "ipython3",
   "version": "3.11.3"
  }
 },
 "nbformat": 4,
 "nbformat_minor": 5
}
