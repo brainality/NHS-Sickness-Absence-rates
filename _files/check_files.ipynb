{
 "cells": [
  {
   "cell_type": "code",
   "execution_count": 39,
   "id": "bf7ff563",
   "metadata": {},
   "outputs": [],
   "source": [
    "#from collections import Counter\n",
    "import os\n",
    "import itertools\n",
    "from pathlib import Path\n",
    "import pandas as pd\n",
    "\n"
   ]
  },
  {
   "cell_type": "markdown",
   "id": "9e1bba88",
   "metadata": {},
   "source": [
    "### 1.Check all headers in files for consistency\n",
    "1. Get columns names from each file in the folder\n",
    "2. Group files by column names\n",
    "3. Export result to excel\n",
    "4. Manually fix column names"
   ]
  },
  {
   "cell_type": "code",
   "execution_count": 40,
   "id": "c39a10b9",
   "metadata": {},
   "outputs": [],
   "source": [
    "def get_files_path(folder):\n",
    "    file_path ={}\n",
    "    source_file_names = os.listdir(folder)\n",
    "    for file in source_file_names:\n",
    "        file_path[file]=os.path.join(folder,file)\n",
    "    \n",
    "    return file_path\n",
    "    "
   ]
  },
  {
   "cell_type": "code",
   "execution_count": 41,
   "id": "2c39da41",
   "metadata": {},
   "outputs": [],
   "source": [
    "def get_column_names(folder):\n",
    "    line = {}\n",
    "    lines =[]\n",
    "    file_path=get_files_path(source_folder)\n",
    "    for key,value in file_path.items():\n",
    "        file = open(value)\n",
    "        #reads first row that supposed to be header \n",
    "        line[key] = file.readline().rstrip().replace('\"','').upper()\n",
    "        lines.append(file.readline())\n",
    "    return(line)\n",
    "    "
   ]
  },
  {
   "cell_type": "code",
   "execution_count": 42,
   "id": "546129b4",
   "metadata": {},
   "outputs": [],
   "source": [
    "def get_groups(file):\n",
    "    df_fields = pd.Series(file).to_frame('Fields')\n",
    "    df_fields['file']=df_fields.index\n",
    "   \n",
    "    df=df_fields.groupby(\"Fields\", group_keys=True)[['file']].apply(lambda x: x)\n",
    "    df.index.names = ['Fields','File']\n",
    "    df.drop(['file'], axis=1, inplace=True)\n",
    "\n",
    "    return df"
   ]
  },
  {
   "cell_type": "code",
   "execution_count": 43,
   "id": "86d34b3f",
   "metadata": {},
   "outputs": [],
   "source": [
    "def export_to_excel(df,output_file):\n",
    "    df.to_excel(output_file, index=True)  "
   ]
  },
  {
   "cell_type": "markdown",
   "id": "47a979d1",
   "metadata": {},
   "source": [
    "#### Set the variables: paths to input folder and output folder"
   ]
  },
  {
   "cell_type": "code",
   "execution_count": 44,
   "id": "03e91522",
   "metadata": {},
   "outputs": [],
   "source": [
    "#set output directory and file\n",
    "out_file=r'C:\\Users\\Alina\\_My_Repos\\NHS-Sickness-Absence-rates\\_files\\_output\\diff_headers.xlsx'  \n",
    "source_folder = r'C:\\Users\\Alina\\_My_Repos\\NHS-Sickness-Absence-rates\\_data'"
   ]
  },
  {
   "cell_type": "markdown",
   "id": "9d2bb7d2",
   "metadata": {},
   "source": [
    "#### Export Results to excel\n"
   ]
  },
  {
   "cell_type": "code",
   "execution_count": 45,
   "id": "388200fa",
   "metadata": {
    "scrolled": true
   },
   "outputs": [],
   "source": [
    "\n",
    "#get names of the columns\n",
    "df=get_column_names(source_folder)\n",
    "#group the names\n",
    "dff = get_groups(df)    \n",
    "#export to file\n",
    "export_to_excel(dff, out_file)\n"
   ]
  }
 ],
 "metadata": {
  "kernelspec": {
   "display_name": "Python 3 (ipykernel)",
   "language": "python",
   "name": "python3"
  },
  "language_info": {
   "codemirror_mode": {
    "name": "ipython",
    "version": 3
   },
   "file_extension": ".py",
   "mimetype": "text/x-python",
   "name": "python",
   "nbconvert_exporter": "python",
   "pygments_lexer": "ipython3",
   "version": "3.11.3"
  }
 },
 "nbformat": 4,
 "nbformat_minor": 5
}
