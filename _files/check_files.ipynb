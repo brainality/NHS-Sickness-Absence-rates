{
 "cells": [
  {
   "cell_type": "code",
   "execution_count": 26,
   "id": "bf7ff563",
   "metadata": {},
   "outputs": [],
   "source": [
    "from collections import Counter\n",
    "import os\n",
    "import itertools\n",
    "from pathlib import Path\n",
    "import pandas as pd\n",
    "\n",
    "source_folder = r'C:\\Users\\Alina\\100datasets\\NHS Sickness Absence\\data'\n"
   ]
  },
  {
   "cell_type": "code",
   "execution_count": 27,
   "id": "c2c7db7d",
   "metadata": {},
   "outputs": [],
   "source": [
    "def get_files_path(folder):\n",
    "    file_path ={}\n",
    "    source_file_names = os.listdir(folder)\n",
    "    for file in source_file_names:\n",
    "        file_path[file]=os.path.join(folder,file)\n",
    "    \n",
    "    return file_path\n",
    "    "
   ]
  },
  {
   "cell_type": "code",
   "execution_count": 28,
   "id": "2c39da41",
   "metadata": {},
   "outputs": [],
   "source": [
    "def get_column_names(folder):\n",
    "    line = {}\n",
    "    lines =[]\n",
    "    file_path=get_files_path(source_folder)\n",
    "    for key,value in file_path.items():\n",
    "        file = open(value)\n",
    "        #reads first row that supposed to be header \n",
    "        line[key] = file.readline().rstrip().replace('\"','').upper()\n",
    "        lines.append(file.readline())\n",
    "    return(line)\n",
    "    "
   ]
  },
  {
   "cell_type": "code",
   "execution_count": 29,
   "id": "546129b4",
   "metadata": {},
   "outputs": [],
   "source": [
    "def get_groups(file):\n",
    "    df_fields = pd.Series(file).to_frame('Fields')\n",
    "    df_fields['file']=df_fields.index\n",
    "   \n",
    "    df=df_fields.groupby(\"Fields\", group_keys=True)[['file']].apply(lambda x: x)\n",
    "    df.index.names = ['Fields','File']\n",
    "    df.drop(['file'], axis=1, inplace=True)\n",
    "\n",
    "    return df"
   ]
  },
  {
   "cell_type": "code",
   "execution_count": 30,
   "id": "86d34b3f",
   "metadata": {},
   "outputs": [],
   "source": [
    "def export_to_excel(df):\n",
    "    df.to_excel('diff_headers.xlsx', index=True)  "
   ]
  },
  {
   "cell_type": "code",
   "execution_count": 31,
   "id": "388200fa",
   "metadata": {
    "scrolled": true
   },
   "outputs": [],
   "source": [
    "df=get_column_names(source_folder)\n",
    "dff = get_groups(df)    \n",
    "export_to_excel(dff)\n"
   ]
  },
  {
   "cell_type": "code",
   "execution_count": null,
   "id": "d25e83f1",
   "metadata": {},
   "outputs": [],
   "source": []
  },
  {
   "cell_type": "code",
   "execution_count": null,
   "id": "a41e0c18",
   "metadata": {},
   "outputs": [],
   "source": []
  }
 ],
 "metadata": {
  "kernelspec": {
   "display_name": "Python 3 (ipykernel)",
   "language": "python",
   "name": "python3"
  },
  "language_info": {
   "codemirror_mode": {
    "name": "ipython",
    "version": 3
   },
   "file_extension": ".py",
   "mimetype": "text/x-python",
   "name": "python",
   "nbconvert_exporter": "python",
   "pygments_lexer": "ipython3",
   "version": "3.11.3"
  }
 },
 "nbformat": 4,
 "nbformat_minor": 5
}
