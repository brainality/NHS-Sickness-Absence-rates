{
 "cells": [
  {
   "cell_type": "code",
   "execution_count": 57,
   "id": "bf7ff563",
   "metadata": {},
   "outputs": [],
   "source": [
    "import os\n",
    "from pathlib import Path\n",
    "import pandas as pd\n",
    "import numpy as np\n"
   ]
  },
  {
   "cell_type": "markdown",
   "id": "f277528f",
   "metadata": {},
   "source": [
    "### 1.Check all headers in files for consistency\n",
    "1. Get columns names from each file in the folder\n",
    "2. Group files by column names\n",
    "3. Export result to excel\n",
    "4. Manually fix column names"
   ]
  },
  {
   "cell_type": "code",
   "execution_count": 58,
   "id": "5e48964d",
   "metadata": {},
   "outputs": [],
   "source": [
    "def get_files_path(folder):\n",
    "    file_path ={}\n",
    "    source_file_names = os.listdir(folder)\n",
    "    for file in source_file_names:\n",
    "        file_path[file]=os.path.join(folder,file)\n",
    "    \n",
    "    return file_path\n",
    "    "
   ]
  },
  {
   "cell_type": "code",
   "execution_count": 59,
   "id": "2c39da41",
   "metadata": {},
   "outputs": [],
   "source": [
    "def get_column_names(folder):\n",
    "    line = {}\n",
    "    lines =[]\n",
    "    file_path=get_files_path(source_folder)\n",
    "    for key,value in file_path.items():\n",
    "        file = open(value)\n",
    "        #reads first row that supposed to be header \n",
    "        line[key] = file.readline().rstrip().replace('\"','').upper()\n",
    "        lines.append(file.readline())\n",
    "    return(line)\n",
    "    "
   ]
  },
  {
   "cell_type": "code",
   "execution_count": 60,
   "id": "546129b4",
   "metadata": {},
   "outputs": [],
   "source": [
    "def get_groups(file):\n",
    "    df_fields = pd.Series(file).to_frame('Fields')\n",
    "    df_fields['file']=df_fields.index\n",
    "   \n",
    "    df=df_fields.groupby(\"Fields\", group_keys=True)[['file']].apply(lambda x: x)\n",
    "    df.index.names = ['Fields','File']\n",
    "    df.drop(['file'], axis=1, inplace=True)\n",
    "\n",
    "    return df"
   ]
  },
  {
   "cell_type": "code",
   "execution_count": 61,
   "id": "86d34b3f",
   "metadata": {},
   "outputs": [],
   "source": [
    "def export_to_excel(df,output_file):\n",
    "    df.to_excel(output_file, index=True)  "
   ]
  },
  {
   "cell_type": "markdown",
   "id": "463b2aba",
   "metadata": {},
   "source": [
    "#### Set the variables: paths to input folder and output folder"
   ]
  },
  {
   "cell_type": "code",
   "execution_count": 62,
   "id": "f7546cd8",
   "metadata": {},
   "outputs": [],
   "source": [
    "#set output directory and file\n",
    "out_file=r'C:\\Users\\Alina\\_My_Repos\\NHS-Sickness-Absence-rates\\_files\\_output\\diff_headers.xlsx'  \n",
    "source_folder = r'C:\\Users\\Alina\\_My_Repos\\NHS-Sickness-Absence-rates\\_data'"
   ]
  },
  {
   "cell_type": "markdown",
   "id": "ec079f02",
   "metadata": {},
   "source": [
    "#### Export Results to excel\n"
   ]
  },
  {
   "cell_type": "code",
   "execution_count": 63,
   "id": "388200fa",
   "metadata": {
    "scrolled": true
   },
   "outputs": [],
   "source": [
    "\n",
    "#get names of the columns\n",
    "df=get_column_names(source_folder)\n",
    "#group the names\n",
    "dff = get_groups(df)    \n",
    "#export to file\n",
    "export_to_excel(dff, out_file)\n"
   ]
  },
  {
   "cell_type": "markdown",
   "id": "ebf82ace",
   "metadata": {},
   "source": [
    "### 2.Combine multiple files into one"
   ]
  },
  {
   "cell_type": "code",
   "execution_count": 64,
   "id": "309b43a9",
   "metadata": {},
   "outputs": [],
   "source": [
    "def combine_files(path_to_folder):\n",
    "    #list all files names in folder\n",
    "    file_names = os.listdir(path_to_folder)\n",
    "    \n",
    "    dff=pd.DataFrame()\n",
    "    \n",
    "    for i in file_names:\n",
    "        #get full path with file name\n",
    "        full_path=os.path.join(path_to_folder,i)\n",
    "        #read into dataframe\n",
    "        df=pd.read_csv(full_path)\n",
    "        #set all columns names to UPPER case\n",
    "        df.columns=df.columns.str.upper()\n",
    "        \n",
    "        dff=pd.concat([dff,df])\n",
    "        dff['DATE']=pd.to_datetime(dff['DATE'],format=\"mixed\")\n",
    "\n",
    "    return dff"
   ]
  },
  {
   "cell_type": "code",
   "execution_count": 65,
   "id": "93b63189",
   "metadata": {},
   "outputs": [],
   "source": [
    "def export_to_csv(df,file):\n",
    "    df.to_csv(csv_file, index=True)  "
   ]
  },
  {
   "cell_type": "code",
   "execution_count": 66,
   "id": "86118990",
   "metadata": {},
   "outputs": [],
   "source": [
    "csv_file=r'C:\\Users\\Alina\\_My_Repos\\NHS-Sickness-Absence-rates\\_files\\_output\\NHS-Sickness-Absence.csv'"
   ]
  },
  {
   "cell_type": "code",
   "execution_count": 67,
   "id": "c58fa08a",
   "metadata": {},
   "outputs": [],
   "source": [
    "df_combined=combine_files(source_folder)\n",
    "export_to_csv(df_combined,csv_file)\n"
   ]
  }
 ],
 "metadata": {
  "kernelspec": {
   "display_name": "Python 3 (ipykernel)",
   "language": "python",
   "name": "python3"
  },
  "language_info": {
   "codemirror_mode": {
    "name": "ipython",
    "version": 3
   },
   "file_extension": ".py",
   "mimetype": "text/x-python",
   "name": "python",
   "nbconvert_exporter": "python",
   "pygments_lexer": "ipython3",
   "version": "3.11.3"
  }
 },
 "nbformat": 4,
 "nbformat_minor": 5
}
